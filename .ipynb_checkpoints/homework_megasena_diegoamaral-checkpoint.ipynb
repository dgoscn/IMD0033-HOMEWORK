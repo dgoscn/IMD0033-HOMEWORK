{
 "cells": [
  {
   "cell_type": "code",
   "execution_count": null,
   "metadata": {
    "collapsed": true
   },
   "outputs": [],
   "source": [
    "#Nessa etapa inicial, iremos demostrar de maneira simples, como os dados são demonstrados para o usuário final."
   ]
  },
  {
   "cell_type": "code",
   "execution_count": 17,
   "metadata": {
    "collapsed": true
   },
   "outputs": [],
   "source": [
    "# Importando as bibliotecas necessárias\n",
    "import pandas as pd\n",
    "import locale\n",
    "import matplotlib\n",
    "import matplotlib.pyplot as plt\n",
    "import numpy as np \n",
    "import seaborn as sns\n",
    "sns.set(style=\"whitegrid\")\n",
    "import qgrid\n",
    "sns.set(style=\"whitegrid\")\n",
    "pal = sns.dark_palette(\"palegreen\", as_cmap=True)\n",
    "\n",
    "%matplotlib inline\n"
   ]
  },
  {
   "cell_type": "code",
   "execution_count": 27,
   "metadata": {},
   "outputs": [
    {
     "data": {
      "text/html": [
       "<div>\n",
       "<style>\n",
       "    .dataframe thead tr:only-child th {\n",
       "        text-align: right;\n",
       "    }\n",
       "\n",
       "    .dataframe thead th {\n",
       "        text-align: left;\n",
       "    }\n",
       "\n",
       "    .dataframe tbody tr th {\n",
       "        vertical-align: top;\n",
       "    }\n",
       "</style>\n",
       "<table border=\"1\" class=\"dataframe\">\n",
       "  <thead>\n",
       "    <tr style=\"text-align: right;\">\n",
       "      <th></th>\n",
       "      <th>Concurso</th>\n",
       "      <th>Data Sorteio</th>\n",
       "      <th>Dezena1</th>\n",
       "      <th>Dezena2</th>\n",
       "      <th>Dezena3</th>\n",
       "      <th>Dezena4</th>\n",
       "      <th>Dezena5</th>\n",
       "      <th>Dezena6</th>\n",
       "      <th>Arrecadacao_Total</th>\n",
       "      <th>Ganhadores_Sena</th>\n",
       "      <th>Rateio_Sena</th>\n",
       "      <th>Ganhadores_Quina</th>\n",
       "      <th>Rateio_Quina</th>\n",
       "      <th>Ganhadores_Quadra</th>\n",
       "      <th>Rateio_Quadra</th>\n",
       "      <th>Acumulado</th>\n",
       "      <th>Valor_Acumulado</th>\n",
       "      <th>Estimativa_Prêmio</th>\n",
       "    </tr>\n",
       "  </thead>\n",
       "  <tbody>\n",
       "    <tr>\n",
       "      <th>0</th>\n",
       "      <td>1</td>\n",
       "      <td>1996-03-11</td>\n",
       "      <td>41</td>\n",
       "      <td>5</td>\n",
       "      <td>4</td>\n",
       "      <td>52</td>\n",
       "      <td>30</td>\n",
       "      <td>33</td>\n",
       "      <td>0.0</td>\n",
       "      <td>0</td>\n",
       "      <td>0.00</td>\n",
       "      <td>17</td>\n",
       "      <td>39158.92</td>\n",
       "      <td>2016</td>\n",
       "      <td>330.21</td>\n",
       "      <td>SIM</td>\n",
       "      <td>1714650.23</td>\n",
       "      <td>0</td>\n",
       "    </tr>\n",
       "    <tr>\n",
       "      <th>1</th>\n",
       "      <td>2</td>\n",
       "      <td>1996-03-18</td>\n",
       "      <td>9</td>\n",
       "      <td>39</td>\n",
       "      <td>37</td>\n",
       "      <td>49</td>\n",
       "      <td>43</td>\n",
       "      <td>41</td>\n",
       "      <td>0.0</td>\n",
       "      <td>1</td>\n",
       "      <td>2307162.23</td>\n",
       "      <td>65</td>\n",
       "      <td>14424.02</td>\n",
       "      <td>4488</td>\n",
       "      <td>208.91</td>\n",
       "      <td>NÃO</td>\n",
       "      <td>0.00</td>\n",
       "      <td>0</td>\n",
       "    </tr>\n",
       "    <tr>\n",
       "      <th>2</th>\n",
       "      <td>3</td>\n",
       "      <td>1996-03-25</td>\n",
       "      <td>36</td>\n",
       "      <td>30</td>\n",
       "      <td>10</td>\n",
       "      <td>11</td>\n",
       "      <td>29</td>\n",
       "      <td>47</td>\n",
       "      <td>0.0</td>\n",
       "      <td>2</td>\n",
       "      <td>391192.51</td>\n",
       "      <td>62</td>\n",
       "      <td>10515.93</td>\n",
       "      <td>4261</td>\n",
       "      <td>153.01</td>\n",
       "      <td>NÃO</td>\n",
       "      <td>0.00</td>\n",
       "      <td>0</td>\n",
       "    </tr>\n",
       "    <tr>\n",
       "      <th>3</th>\n",
       "      <td>4</td>\n",
       "      <td>1996-04-01</td>\n",
       "      <td>6</td>\n",
       "      <td>59</td>\n",
       "      <td>42</td>\n",
       "      <td>27</td>\n",
       "      <td>1</td>\n",
       "      <td>5</td>\n",
       "      <td>0.0</td>\n",
       "      <td>0</td>\n",
       "      <td>0.00</td>\n",
       "      <td>39</td>\n",
       "      <td>15322.24</td>\n",
       "      <td>3311</td>\n",
       "      <td>180.48</td>\n",
       "      <td>SIM</td>\n",
       "      <td>717080.75</td>\n",
       "      <td>0</td>\n",
       "    </tr>\n",
       "    <tr>\n",
       "      <th>4</th>\n",
       "      <td>5</td>\n",
       "      <td>1996-04-08</td>\n",
       "      <td>1</td>\n",
       "      <td>19</td>\n",
       "      <td>46</td>\n",
       "      <td>6</td>\n",
       "      <td>16</td>\n",
       "      <td>2</td>\n",
       "      <td>0.0</td>\n",
       "      <td>0</td>\n",
       "      <td>0.00</td>\n",
       "      <td>98</td>\n",
       "      <td>5318.10</td>\n",
       "      <td>5399</td>\n",
       "      <td>96.53</td>\n",
       "      <td>SIM</td>\n",
       "      <td>1342488.85</td>\n",
       "      <td>0</td>\n",
       "    </tr>\n",
       "  </tbody>\n",
       "</table>\n",
       "</div>"
      ],
      "text/plain": [
       "   Concurso Data Sorteio  Dezena1  Dezena2  Dezena3  Dezena4  Dezena5  \\\n",
       "0         1   1996-03-11       41        5        4       52       30   \n",
       "1         2   1996-03-18        9       39       37       49       43   \n",
       "2         3   1996-03-25       36       30       10       11       29   \n",
       "3         4   1996-04-01        6       59       42       27        1   \n",
       "4         5   1996-04-08        1       19       46        6       16   \n",
       "\n",
       "   Dezena6  Arrecadacao_Total  Ganhadores_Sena  Rateio_Sena  Ganhadores_Quina  \\\n",
       "0       33                0.0                0         0.00                17   \n",
       "1       41                0.0                1   2307162.23                65   \n",
       "2       47                0.0                2    391192.51                62   \n",
       "3        5                0.0                0         0.00                39   \n",
       "4        2                0.0                0         0.00                98   \n",
       "\n",
       "   Rateio_Quina  Ganhadores_Quadra  Rateio_Quadra Acumulado  Valor_Acumulado  \\\n",
       "0      39158.92               2016         330.21       SIM       1714650.23   \n",
       "1      14424.02               4488         208.91       NÃO             0.00   \n",
       "2      10515.93               4261         153.01       NÃO             0.00   \n",
       "3      15322.24               3311         180.48       SIM        717080.75   \n",
       "4       5318.10               5399          96.53       SIM       1342488.85   \n",
       "\n",
       "   Estimativa_Prêmio  \n",
       "0                  0  \n",
       "1                  0  \n",
       "2                  0  \n",
       "3                  0  \n",
       "4                  0  "
      ]
     },
     "execution_count": 27,
     "metadata": {},
     "output_type": "execute_result"
    }
   ],
   "source": [
    "# Atribuiindo o nome da planilha para a variável \"arquivo\"\n",
    "arquivo = 'basedados.xlsx'\n",
    "# Carregando a base de dados para um objeto pandas.io.excel.ExcelFile\n",
    "excel = pd.ExcelFile(arquivo)\n",
    "# Imprimindo o nome das planilhas\n",
    "#print(excel.sheet_names)\n",
    "# Carregando a planilha excel para um objeto dataframe\n",
    "dados = excel.parse(0)\n",
    "# Imprimir as cinco primeiras linhas do dataframe\n",
    "dados.head()"
   ]
  },
  {
   "cell_type": "code",
   "execution_count": null,
   "metadata": {
    "collapsed": true
   },
   "outputs": [],
   "source": [
    "#Visto o Print do campo anterior, conseguimos visualizar quais campos estão presentes dentro do arquivo Excel."
   ]
  },
  {
   "cell_type": "code",
   "execution_count": null,
   "metadata": {
    "collapsed": true
   },
   "outputs": [],
   "source": [
    "#Sabendo que na atual era, o tempo é o bem mais valioso do ser humano, com a biblioteca pandas\n",
    "#podemos ganhar tempo e também dinheiro(se jogarmos numa megasena) :D para obtermos melhores informações."
   ]
  },
  {
   "cell_type": "code",
   "execution_count": null,
   "metadata": {
    "collapsed": true
   },
   "outputs": [],
   "source": [
    "#Para isso, iremos calcular a quantidade de vezes que cada uma das dezenas fora sorteada\n",
    "#ao longo do tempo na megasena.\n",
    "\n",
    "#Assim sendo, criamos uma variável contendo todas as colunas referente as dezenas\n",
    "\n",
    "#Em seguida, achataremos essas colunas em um único vetor utilizando o método value_counts\n",
    "#de uma série de valores. Em seguida, converteremos o resultado desse calculo em um DataFrame.\n",
    "\n",
    "#A biblioteca \"Seaborn\" será utilizada para plotar o gráfico de barras.\n",
    "\n",
    "#O eixo Y é denotado pelo número da dezena e o eixo X pela quantidade de vezes que a bolinha fora sorteada\n"
   ]
  },
  {
   "cell_type": "code",
   "execution_count": 26,
   "metadata": {
    "scrolled": true
   },
   "outputs": [
    {
     "data": {
      "image/png": "[encoded data removed]",
      "text/plain": [
       "<matplotlib.figure.Figure at 0x7f228043ce80>"
      ]
     },
     "metadata": {},
     "output_type": "display_data"
    }
   ],
   "source": [
    "balls = dados[['Dezena1','Dezena2','Dezena3','Dezena4','Dezena5','Dezena6']]\n",
    "\n",
    "balls_agg = pd.DataFrame( balls.values.flatten(), columns=['total'] )\n",
    "\n",
    "balls_count = balls_agg['total'].value_counts(sort=True).to_frame().reset_index()\n",
    "\n",
    "\n",
    "f, ax = plt.subplots(figsize=(6, 25))\n",
    "\n",
    "sns.barplot(y=\"index\", x=\"total\", data=balls_count, label=\"Total\", orient='h', color='g')\n",
    "\n",
    "\n",
    "ax.set(xlim=(0, 250), ylabel=\"\", xlabel=\"Quantidade de vezes que a dezena foi sorteada desde 1996\")\n",
    "sns.despine(left=True, bottom=True)"
   ]
  },
  {
   "cell_type": "code",
   "execution_count": 56,
   "metadata": {
    "collapsed": true
   },
   "outputs": [],
   "source": [
    "#Baseado nos fatos acima, podemos inferir que as dezenas: 22, 26, 55, 21 e 25 são as dezenas menos sorteadas,\n",
    "#e por sua vez: 5, 51, 53, 42 e 4 são as que sairam mais vezes"
   ]
  },
  {
   "cell_type": "code",
   "execution_count": null,
   "metadata": {
    "collapsed": true
   },
   "outputs": [],
   "source": [
    "#Vamos calcular agora a quantidade de vezes que duas dezenas foram escolhidas no mesmo sorteio.\n",
    "#Utilizaremos a função combinations do módulo itertools da biblioteca padrão do Python \n",
    "#e um defaultdict do módulo collections.\n",
    "\n",
    "#Vamos iterar sobre o nosso subconjunto de resultados, ou seja, nas colunas Dezena1 a Dezena6,\n",
    "#tomando os valores de dois a dois e incrementando no dicionário a contagem de vezes que a dupla aparece.\n",
    "#Com o combinations, nossos resultados ficam ordenados\n",
    "\n",
    "#Depois da iteração, transformaremos nosso dicionário em um DataFrame com duas colunas\n",
    "#(dezenas e total de vezes que aparece junto), \n",
    "#e em seguida separar a coluna dezenas em Dezena1 e Dezena2 para facilitar o trabalho com os dados."
   ]
  },
  {
   "cell_type": "code",
   "execution_count": 83,
   "metadata": {
    "collapsed": true
   },
   "outputs": [],
   "source": [
    "from itertools import combinations\n",
    "from collections import defaultdict\n",
    "pair_list = defaultdict(lambda: 0, [])\n",
    "    \n",
    "for values in balls.iterrows():\n",
    "    for k in combinations(values[1], 2):\n",
    "        pair_list[k] += 1\n",
    "        #pair_list[k[::-1]] += 1\n",
    "    \n",
    "pairs = pd.DataFrame( list(pair_list.items()), columns=['dezenas', 'total'] )\n",
    "\n",
    "new_col_list = ['Dezena1','Dezena2']\n",
    "for n,col in enumerate(new_col_list):\n",
    "    pairs[col] = pairs['dezenas'].apply(lambda dezena: dezena[n])"
   ]
  },
  {
   "cell_type": "code",
   "execution_count": null,
   "metadata": {
    "collapsed": true
   },
   "outputs": [],
   "source": [
    "#Uma maneira interessante de observar as combinações entre duas dezenas sorteadas e a frequência com que essas \n",
    "#dezenas são sorteadas juntas é utilizando um heatmap. \n",
    "#Vamos utilizar o Seaborn novamente para fazer isso. \n",
    "#Quanto mais escuro no gráfico a combinação entre a dezena X e a dezena Y,\n",
    "#maior o número de vezes que elas foram sorteadas junto"
   ]
  },
  {
   "cell_type": "code",
   "execution_count": 84,
   "metadata": {},
   "outputs": [
    {
     "data": {
      "image/png": "[encoded data removed]",
      "text/plain": [
       "<matplotlib.figure.Figure at 0x7f22802840b8>"
      ]
     },
     "metadata": {},
     "output_type": "display_data"
    }
   ],
   "source": [
    "f, ax = plt.subplots(figsize=(30, 18))\n",
    "pairs2 = pairs.pivot('Dezena2','Dezena1', 'total')\n",
    "#pairs2.fillna(-1, inplace=True)\n",
    "sns.color_palette(\"Paired\")\n",
    "sns.heatmap(pairs2, square=True, ax=ax, linewidths=1, cmap=sns.light_palette(\"green\", as_cmap=True))\n",
    "ax.set(xlim=(0, 61), ylabel=\"Dezena\", xlabel=\"Pares sorteados em um mesmo sorteio\")\n",
    "f.tight_layout()"
   ]
  },
  {
   "cell_type": "code",
   "execution_count": 85,
   "metadata": {},
   "outputs": [
    {
     "data": {
      "text/html": [
       "<div>\n",
       "<style>\n",
       "    .dataframe thead tr:only-child th {\n",
       "        text-align: right;\n",
       "    }\n",
       "\n",
       "    .dataframe thead th {\n",
       "        text-align: left;\n",
       "    }\n",
       "\n",
       "    .dataframe tbody tr th {\n",
       "        vertical-align: top;\n",
       "    }\n",
       "</style>\n",
       "<table border=\"1\" class=\"dataframe\">\n",
       "  <thead>\n",
       "    <tr style=\"text-align: right;\">\n",
       "      <th></th>\n",
       "      <th>Dezena1</th>\n",
       "      <th>Dezena2</th>\n",
       "      <th>total</th>\n",
       "    </tr>\n",
       "  </thead>\n",
       "  <tbody>\n",
       "    <tr>\n",
       "      <th>1109</th>\n",
       "      <td>11</td>\n",
       "      <td>5</td>\n",
       "      <td>21</td>\n",
       "    </tr>\n",
       "    <tr>\n",
       "      <th>8</th>\n",
       "      <td>5</td>\n",
       "      <td>33</td>\n",
       "      <td>20</td>\n",
       "    </tr>\n",
       "    <tr>\n",
       "      <th>166</th>\n",
       "      <td>20</td>\n",
       "      <td>16</td>\n",
       "      <td>20</td>\n",
       "    </tr>\n",
       "    <tr>\n",
       "      <th>2836</th>\n",
       "      <td>31</td>\n",
       "      <td>34</td>\n",
       "      <td>19</td>\n",
       "    </tr>\n",
       "    <tr>\n",
       "      <th>50</th>\n",
       "      <td>59</td>\n",
       "      <td>42</td>\n",
       "      <td>19</td>\n",
       "    </tr>\n",
       "    <tr>\n",
       "      <th>752</th>\n",
       "      <td>35</td>\n",
       "      <td>2</td>\n",
       "      <td>19</td>\n",
       "    </tr>\n",
       "    <tr>\n",
       "      <th>19</th>\n",
       "      <td>9</td>\n",
       "      <td>41</td>\n",
       "      <td>18</td>\n",
       "    </tr>\n",
       "    <tr>\n",
       "      <th>62</th>\n",
       "      <td>1</td>\n",
       "      <td>6</td>\n",
       "      <td>18</td>\n",
       "    </tr>\n",
       "    <tr>\n",
       "      <th>1022</th>\n",
       "      <td>51</td>\n",
       "      <td>23</td>\n",
       "      <td>18</td>\n",
       "    </tr>\n",
       "    <tr>\n",
       "      <th>2141</th>\n",
       "      <td>18</td>\n",
       "      <td>30</td>\n",
       "      <td>18</td>\n",
       "    </tr>\n",
       "    <tr>\n",
       "      <th>205</th>\n",
       "      <td>47</td>\n",
       "      <td>23</td>\n",
       "      <td>18</td>\n",
       "    </tr>\n",
       "    <tr>\n",
       "      <th>317</th>\n",
       "      <td>56</td>\n",
       "      <td>46</td>\n",
       "      <td>17</td>\n",
       "    </tr>\n",
       "    <tr>\n",
       "      <th>703</th>\n",
       "      <td>59</td>\n",
       "      <td>30</td>\n",
       "      <td>17</td>\n",
       "    </tr>\n",
       "    <tr>\n",
       "      <th>737</th>\n",
       "      <td>2</td>\n",
       "      <td>14</td>\n",
       "      <td>17</td>\n",
       "    </tr>\n",
       "    <tr>\n",
       "      <th>1337</th>\n",
       "      <td>18</td>\n",
       "      <td>31</td>\n",
       "      <td>17</td>\n",
       "    </tr>\n",
       "    <tr>\n",
       "      <th>1137</th>\n",
       "      <td>40</td>\n",
       "      <td>52</td>\n",
       "      <td>17</td>\n",
       "    </tr>\n",
       "    <tr>\n",
       "      <th>1680</th>\n",
       "      <td>28</td>\n",
       "      <td>16</td>\n",
       "      <td>17</td>\n",
       "    </tr>\n",
       "    <tr>\n",
       "      <th>1281</th>\n",
       "      <td>52</td>\n",
       "      <td>4</td>\n",
       "      <td>17</td>\n",
       "    </tr>\n",
       "    <tr>\n",
       "      <th>628</th>\n",
       "      <td>32</td>\n",
       "      <td>24</td>\n",
       "      <td>17</td>\n",
       "    </tr>\n",
       "    <tr>\n",
       "      <th>304</th>\n",
       "      <td>53</td>\n",
       "      <td>36</td>\n",
       "      <td>17</td>\n",
       "    </tr>\n",
       "  </tbody>\n",
       "</table>\n",
       "</div>"
      ],
      "text/plain": [
       "      Dezena1  Dezena2  total\n",
       "1109       11        5     21\n",
       "8           5       33     20\n",
       "166        20       16     20\n",
       "2836       31       34     19\n",
       "50         59       42     19\n",
       "752        35        2     19\n",
       "19          9       41     18\n",
       "62          1        6     18\n",
       "1022       51       23     18\n",
       "2141       18       30     18\n",
       "205        47       23     18\n",
       "317        56       46     17\n",
       "703        59       30     17\n",
       "737         2       14     17\n",
       "1337       18       31     17\n",
       "1137       40       52     17\n",
       "1680       28       16     17\n",
       "1281       52        4     17\n",
       "628        32       24     17\n",
       "304        53       36     17"
      ]
     },
     "execution_count": 85,
     "metadata": {},
     "output_type": "execute_result"
    }
   ],
   "source": [
    "#Podemos também obter as 20 combinações mais frequentes em formato de lista:\n",
    "pairs[['Dezena1','Dezena2','total']].sort_values('total', ascending=False)[:20]"
   ]
  },
  {
   "cell_type": "code",
   "execution_count": 120,
   "metadata": {},
   "outputs": [
    {
     "data": {
      "text/plain": [
       "0.76444444444444448"
      ]
     },
     "execution_count": 120,
     "metadata": {},
     "output_type": "execute_result"
    }
   ],
   "source": [
    "#Baseado nesses fatos, podemos também obter a porcentagem de concursos acumulados.\n",
    "\n",
    "dados.Acumulado.value_counts().SIM/dados.shape[0]"
   ]
  },
  {
   "cell_type": "code",
   "execution_count": null,
   "metadata": {
    "collapsed": true
   },
   "outputs": [],
   "source": [
    "#Portanto, com ferramentas simples de bibliotecas poderodas do Python, podemos inferir bastante dados e coletar \n",
    "#informações preciosas para nosso diagnóstico."
   ]
  }
 ],
 "metadata": {
  "kernelspec": {
   "display_name": "Python 3",
   "language": "python",
   "name": "python3"
  },
  "language_info": {
   "codemirror_mode": {
    "name": "ipython",
    "version": 3
   },
   "file_extension": ".py",
   "mimetype": "text/x-python",
   "name": "python",
   "nbconvert_exporter": "python",
   "pygments_lexer": "ipython3",
   "version": "3.6.3"
  }
 },
 "nbformat": 4,
 "nbformat_minor": 2
}
